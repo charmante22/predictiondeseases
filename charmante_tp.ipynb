{
 "cells": [
  {
   "cell_type": "code",
   "execution_count": 25,
   "id": "538a4a37",
   "metadata": {},
   "outputs": [
    {
     "name": "stdout",
     "output_type": "stream",
     "text": [
      "    genre  age  toilette  mousticaire  douche  poubelle  maladie\n",
      "0       1   14         3            4       5         6        1\n",
      "1       0   16         3            0       0         0        2\n",
      "2       0   20         0            4       5         6        3\n",
      "3       1   30         3            0       0         0        4\n",
      "4       0   20         0            0       0         0        1\n",
      "5       1   10         3            0       5         6        5\n",
      "6       1   28         0            4       5         0        1\n",
      "7       1   23         3            4       0         6        2\n",
      "8       1   20         0            0       5         0        3\n",
      "9       1   24         3            0       0         0        4\n",
      "10      0   43         0            4       5         0        1\n",
      "11      0   44         0            0       0         0        3\n"
     ]
    }
   ],
   "source": [
    "import pandas as pd\n",
    "from sklearn.model_selection import train_test_split\n",
    "from sklearn.linear_model import LinearRegression\n",
    "import joblib\n",
    "\n",
    "base_done=pd.read_excel('charmante_tp.xls')\n",
    "print(base_done)\n",
    "\n",
    "\n",
    "\n"
   ]
  },
  {
   "cell_type": "code",
   "execution_count": 26,
   "id": "988fe7d7",
   "metadata": {},
   "outputs": [],
   "source": [
    "X=base_done[['genre','age','toilette','mousticaire','douche','poubelle']]\n",
    "y=base_done['maladie']\n"
   ]
  },
  {
   "cell_type": "code",
   "execution_count": 27,
   "id": "8dec1b79",
   "metadata": {},
   "outputs": [
    {
     "name": "stdout",
     "output_type": "stream",
     "text": [
      "    genre  age  toilette  mousticaire  douche  poubelle\n",
      "10      0   43         0            4       5         0\n",
      "2       0   20         0            4       5         6\n",
      "8       1   20         0            0       5         0\n",
      "1       0   16         3            0       0         0\n",
      "7       1   23         3            4       0         6\n",
      "9       1   24         3            0       0         0\n",
      "3       1   30         3            0       0         0\n",
      "0       1   14         3            4       5         6\n",
      "5       1   10         3            0       5         6\n"
     ]
    }
   ],
   "source": [
    "X_train,X_test,y_train,y_test=train_test_split(X,y,test_size=0.2,random_state=0)\n",
    "print(X_train)\n"
   ]
  },
  {
   "cell_type": "code",
   "execution_count": 28,
   "id": "962e7dbc",
   "metadata": {},
   "outputs": [
    {
     "data": {
      "text/plain": [
       "['charmante_tp_v1.pkl']"
      ]
     },
     "execution_count": 28,
     "metadata": {},
     "output_type": "execute_result"
    }
   ],
   "source": [
    "regression=LinearRegression()\n",
    "regression.fit(X_train,y_train)\n",
    "joblib.dump(regression,'charmante_tp_v1.pkl')\n"
   ]
  },
  {
   "cell_type": "code",
   "execution_count": 29,
   "id": "b401a032",
   "metadata": {},
   "outputs": [
    {
     "name": "stdout",
     "output_type": "stream",
     "text": [
      "    maladie actuelle  maladie predite\n",
      "6                  1        -0.549605\n",
      "11                 3         6.612427\n",
      "4                  1         3.811191\n"
     ]
    }
   ],
   "source": [
    "y_pred=regression.predict(X_test)\n",
    "df=pd.DataFrame({\n",
    "    'maladie actuelle':y_test,\n",
    "    'maladie predite':y_pred\n",
    "})\n",
    "print(df)\n"
   ]
  },
  {
   "cell_type": "code",
   "execution_count": null,
   "id": "0104de47",
   "metadata": {},
   "outputs": [],
   "source": []
  },
  {
   "cell_type": "code",
   "execution_count": null,
   "id": "5022cdc4",
   "metadata": {},
   "outputs": [],
   "source": []
  }
 ],
 "metadata": {
  "kernelspec": {
   "display_name": "Python 3 (ipykernel)",
   "language": "python",
   "name": "python3"
  },
  "language_info": {
   "codemirror_mode": {
    "name": "ipython",
    "version": 3
   },
   "file_extension": ".py",
   "mimetype": "text/x-python",
   "name": "python",
   "nbconvert_exporter": "python",
   "pygments_lexer": "ipython3",
   "version": "3.9.7"
  }
 },
 "nbformat": 4,
 "nbformat_minor": 5
}
