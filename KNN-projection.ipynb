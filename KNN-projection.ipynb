{
 "cells": [
  {
   "cell_type": "code",
   "execution_count": 12,
   "id": "2ad95dcb",
   "metadata": {},
   "outputs": [],
   "source": [
    "import pandas as pd\n",
    "import joblib\n",
    "import sklearn\n",
    "from sklearn.model_selection import train_test_split\n",
    "\n",
    "from sklearn.neighbors import KNeighborsClassifier\n",
    "from sklearn.metrics import accuracy_score, confusion_matrix, classification_report, precision_score, recall_score, f1_score, roc_auc_score, precision_recall_curve\n",
    "\n",
    "\n",
    "\n",
    "\n",
    "\n",
    "\n"
   ]
  },
  {
   "cell_type": "code",
   "execution_count": 18,
   "id": "2da7dc1f",
   "metadata": {},
   "outputs": [
    {
     "name": "stdout",
     "output_type": "stream",
     "text": [
      "      age  sex  cp  trestbps  chol  fbs  restecg  thalach  exang  oldpeak  \\\n",
      "0      52    1   0       125   212    0        1      168      0      1.0   \n",
      "1      53    1   0       140   203    1        0      155      1      3.1   \n",
      "2      70    1   0       145   174    0        1      125      1      2.6   \n",
      "3      61    1   0       148   203    0        1      161      0      0.0   \n",
      "4      62    0   0       138   294    1        1      106      0      1.9   \n",
      "...   ...  ...  ..       ...   ...  ...      ...      ...    ...      ...   \n",
      "1020   59    1   1       140   221    0        1      164      1      0.0   \n",
      "1021   60    1   0       125   258    0        0      141      1      2.8   \n",
      "1022   47    1   0       110   275    0        0      118      1      1.0   \n",
      "1023   50    0   0       110   254    0        0      159      0      0.0   \n",
      "1024   54    1   0       120   188    0        1      113      0      1.4   \n",
      "\n",
      "      slope  ca  thal  target  \n",
      "0         2   2     3       0  \n",
      "1         0   0     3       0  \n",
      "2         0   0     3       0  \n",
      "3         2   1     3       0  \n",
      "4         1   3     2       0  \n",
      "...     ...  ..   ...     ...  \n",
      "1020      2   0     2       1  \n",
      "1021      1   1     3       0  \n",
      "1022      1   1     2       0  \n",
      "1023      2   0     2       1  \n",
      "1024      1   1     3       0  \n",
      "\n",
      "[1025 rows x 14 columns]\n"
     ]
    }
   ],
   "source": [
    "# Charger les données\n",
    "dataset = pd.read_csv('heart.csv')\n",
    "# tableau de données de caractéristiques\n",
    "X= dataset[['age','sex','cp','trestbps','chol','fbs','restecg','thalach','exang','oldpeak','slope','ca','thal']]\n",
    "y = dataset['target']  # tableau de labels de classe correspondants\n",
    "\n",
    "print(dataset)\n"
   ]
  },
  {
   "cell_type": "code",
   "execution_count": 19,
   "id": "6801ac43",
   "metadata": {},
   "outputs": [
    {
     "data": {
      "text/plain": [
       "KNeighborsClassifier()"
      ]
     },
     "execution_count": 19,
     "metadata": {},
     "output_type": "execute_result"
    }
   ],
   "source": [
    "\n",
    "# Diviser les données en données d'entraînement et de test\n",
    "X_train, X_test, y_train, y_test = train_test_split(X, y, test_size=0.25, random_state=42)\n",
    "\n",
    "# Créer un classifieur KNN avec K = 5\n",
    "knn = KNeighborsClassifier(n_neighbors=5)\n",
    "\n",
    "# Entraîner le modèle KNN avec les données d'entraînement\n",
    "knn.fit(X_train, y_train)"
   ]
  },
  {
   "cell_type": "code",
   "execution_count": 20,
   "id": "5680ac4a",
   "metadata": {},
   "outputs": [],
   "source": [
    "# Prédire les classes des données de test avec le modèle KNN\n",
    "y_pred = knn.predict(X_test)\n",
    "y_pred_proba = knn.predict_proba(X_test)[:, 1]\n"
   ]
  },
  {
   "cell_type": "code",
   "execution_count": 21,
   "id": "18b0684b",
   "metadata": {},
   "outputs": [
    {
     "name": "stdout",
     "output_type": "stream",
     "text": [
      "Exactitude : 0.7198443579766537\n"
     ]
    }
   ],
   "source": [
    "\n",
    "# Calculer l'exactitude du modèle KNN\n",
    "accuracy = accuracy_score(y_test, y_pred)\n",
    "print(\"Exactitude :\", accuracy)"
   ]
  },
  {
   "cell_type": "code",
   "execution_count": 22,
   "id": "311f4786",
   "metadata": {},
   "outputs": [
    {
     "name": "stdout",
     "output_type": "stream",
     "text": [
      "Précision : 0.712\n"
     ]
    }
   ],
   "source": [
    "# Calculer la précision du modèle KNN\n",
    "precision = precision_score(y_test, y_pred)\n",
    "print(\"Précision :\", precision)\n"
   ]
  },
  {
   "cell_type": "code",
   "execution_count": 23,
   "id": "64563e44",
   "metadata": {},
   "outputs": [
    {
     "name": "stdout",
     "output_type": "stream",
     "text": [
      "Rappel : 0.712\n"
     ]
    }
   ],
   "source": [
    "# Calculer le rappel du modèle KNN\n",
    "recall = recall_score(y_test, y_pred)\n",
    "print(\"Rappel :\", recall)\n"
   ]
  },
  {
   "cell_type": "code",
   "execution_count": 24,
   "id": "be26779e",
   "metadata": {},
   "outputs": [
    {
     "name": "stdout",
     "output_type": "stream",
     "text": [
      "F1-score : 0.712\n"
     ]
    }
   ],
   "source": [
    "# Calculer le F1-score du modèle KNN\n",
    "f1 = f1_score(y_test, y_pred)\n",
    "print(\"F1-score :\", f1)\n"
   ]
  },
  {
   "cell_type": "code",
   "execution_count": 25,
   "id": "1e418eeb",
   "metadata": {},
   "outputs": [
    {
     "name": "stdout",
     "output_type": "stream",
     "text": [
      "Aire sous la courbe ROC : 0.8409090909090909\n"
     ]
    }
   ],
   "source": [
    "# Calculer l'aire sous la courbe ROC du modèle KNN\n",
    "roc_auc = roc_auc_score(y_test, y_pred_proba)\n",
    "print(\"Aire sous la courbe ROC :\", roc_auc)\n"
   ]
  },
  {
   "cell_type": "code",
   "execution_count": 26,
   "id": "fb12f912",
   "metadata": {},
   "outputs": [],
   "source": [
    "# Calculer la courbe de précision-rappel du modèle KNN\n",
    "precision, recall, thresholds = precision_recall_curve(y_test, y_pred_proba)\n"
   ]
  },
  {
   "cell_type": "code",
   "execution_count": 27,
   "id": "2d50fd08",
   "metadata": {},
   "outputs": [
    {
     "name": "stdout",
     "output_type": "stream",
     "text": [
      "Matrice de confusion :\n",
      "[[96 36]\n",
      " [36 89]]\n"
     ]
    }
   ],
   "source": [
    "# Afficher la matrice de confusion\n",
    "print(\"Matrice de confusion :\")\n",
    "print(confusion_matrix(y_test, y_pred))\n"
   ]
  },
  {
   "cell_type": "code",
   "execution_count": 28,
   "id": "a6205a85",
   "metadata": {},
   "outputs": [
    {
     "name": "stdout",
     "output_type": "stream",
     "text": [
      "              precision    recall  f1-score   support\n",
      "\n",
      "           0       0.73      0.73      0.73       132\n",
      "           1       0.71      0.71      0.71       125\n",
      "\n",
      "    accuracy                           0.72       257\n",
      "   macro avg       0.72      0.72      0.72       257\n",
      "weighted avg       0.72      0.72      0.72       257\n",
      "\n"
     ]
    }
   ],
   "source": [
    "# Afficher le rapport de classification\n",
    "print(classification_report(y_test, y_pred))\n"
   ]
  }
 ],
 "metadata": {
  "kernelspec": {
   "display_name": "Python 3 (ipykernel)",
   "language": "python",
   "name": "python3"
  },
  "language_info": {
   "codemirror_mode": {
    "name": "ipython",
    "version": 3
   },
   "file_extension": ".py",
   "mimetype": "text/x-python",
   "name": "python",
   "nbconvert_exporter": "python",
   "pygments_lexer": "ipython3",
   "version": "3.9.7"
  }
 },
 "nbformat": 4,
 "nbformat_minor": 5
}
